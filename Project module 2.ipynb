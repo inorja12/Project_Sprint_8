{
 "cells": [
  {
   "cell_type": "markdown",
   "metadata": {},
   "source": [
    "# Hola Ingrid! <a class=\"tocSkip\"></a>\n",
    "\n",
    "Mi nombre es Oscar Flores y tengo el gusto de revisar tu proyecto. Si tienes algún comentario que quieras agregar en tus respuestas te puedes referir a mi como Oscar, no hay problema que me trates de tú.\n",
    "\n",
    "Si veo un error en la primera revisión solamente lo señalaré y dejaré que tú encuentres de qué se trata y cómo arreglarlo. Debo prepararte para que te desempeñes como especialista en Data, en un trabajo real, el responsable a cargo tuyo hará lo mismo. Si aún tienes dificultades para resolver esta tarea, te daré indicaciones más precisas en una siguiente iteración.\n",
    "\n",
    "Te dejaré mis comentarios más abajo - **por favor, no los muevas, modifiques o borres**\n",
    "\n",
    "Comenzaré mis comentarios con un resumen de los puntos que están bien, aquellos que debes corregir y aquellos que puedes mejorar. Luego deberás revisar todo el notebook para leer mis comentarios, los cuales estarán en rectángulos de color verde, amarillo o rojo como siguen:\n",
    "\n",
    "<div class=\"alert alert-block alert-success\">\n",
    "<b>Comentario de Reviewer</b> <a class=\"tocSkip\"></a>\n",
    "    \n",
    "Muy bien! Toda la respuesta fue lograda satisfactoriamente.\n",
    "</div>\n",
    "\n",
    "<div class=\"alert alert-block alert-warning\">\n",
    "<b>Comentario de Reviewer</b> <a class=\"tocSkip\"></a>\n",
    "\n",
    "Existen detalles a mejorar. Existen recomendaciones.\n",
    "</div>\n",
    "\n",
    "<div class=\"alert alert-block alert-danger\">\n",
    "\n",
    "<b>Comentario de Reviewer</b> <a class=\"tocSkip\"></a>\n",
    "\n",
    "Se necesitan correcciones en el bloque. El trabajo no puede ser aceptado con comentarios en rojo sin solucionar.\n",
    "</div>\n",
    "\n",
    "Cualquier comentario que quieras agregar entre iteraciones de revisión lo puedes hacer de la siguiente manera:\n",
    "\n",
    "<div class=\"alert alert-block alert-info\">\n",
    "<b>Respuesta estudiante.</b> <a class=\"tocSkip\"></a>\n",
    "</div>\n",
    "\n",
    "Mucho éxito en el proyecto!"
   ]
  },
  {
   "cell_type": "markdown",
   "metadata": {},
   "source": [
    "## Resumen de la revisión 1 <a class=\"tocSkip\"></a>"
   ]
  },
  {
   "cell_type": "markdown",
   "metadata": {},
   "source": [
    "<div class=\"alert alert-block alert-success\">\n",
    "<b>Comentario de Revisor</b> <a class=\"tocSkip\"></a>\n",
    "\n",
    "Buen trabajo Ingrid! Has completado correctamente todo lo necesario del notebook. No tengo comentarios de corrección, está aprobado. Felicitaciones por completar el notebook en la primera revisión, tu proyecto tiene una gran calidad en los resultados y presentación.\n",
    "\n",
    "Saludos!\n",
    "\n",
    "</div>"
   ]
  },
  {
   "cell_type": "markdown",
   "metadata": {},
   "source": [
    "----"
   ]
  },
  {
   "cell_type": "markdown",
   "metadata": {},
   "source": [
    "# Análisis de Eventos en Experimentos de Usuario  \n",
    "\n",
    "## **Objetivo**  \n",
    "Este proyecto analiza los eventos de usuarios en un experimento A/B para evaluar el impacto de diferentes condiciones.  \n",
    "\n",
    "## **Descripción del Dataset**  \n",
    "El archivo `logs_exp_us.csv` contiene:  \n",
    "- **EventName** → Nombre del evento registrado.  \n",
    "- **DeviceIDHash** → Identificador único del usuario.  \n",
    "- **EventTimestamp** → Momento en que ocurrió el evento.  \n",
    "- **ExpId** → Grupo experimental del usuario:  \n",
    "  - `246` y `247` → Grupos de control.  \n",
    "  - `248` → Grupo de prueba."
   ]
  },
  {
   "cell_type": "code",
   "execution_count": 1,
   "metadata": {},
   "outputs": [
    {
     "name": "stdout",
     "output_type": "stream",
     "text": [
      "                event_name              user_id  event_time  experiment_id\n",
      "0         MainScreenAppear  4575588528974610257  1564029816            246\n",
      "1         MainScreenAppear  7416695313311560658  1564053102            246\n",
      "2  PaymentScreenSuccessful  3518123091307005509  1564054127            248\n",
      "3         CartScreenAppear  3518123091307005509  1564054127            248\n",
      "4  PaymentScreenSuccessful  6217807653094995999  1564055322            248\n"
     ]
    }
   ],
   "source": [
    "import pandas as pd\n",
    "import matplotlib.pyplot as plt\n",
    "import scipy.stats as stats\n",
    "\n",
    "# Cargar el dataset\n",
    "df = pd.read_csv(\"/datasets/logs_exp_us.csv\", sep=\"\\t\")\n",
    "\n",
    "# Renombrar las columnas para mayor claridad\n",
    "df.rename(columns={\n",
    "    \"EventName\": \"event_name\",\n",
    "    \"DeviceIDHash\": \"user_id\",\n",
    "    \"EventTimestamp\": \"event_time\",\n",
    "    \"ExpId\": \"experiment_id\"  # Mantiene claridad sobre el grupo de experimento\n",
    "}, inplace=True)\n",
    "\n",
    "# Verificar los cambios\n",
    "print(df.head())"
   ]
  },
  {
   "cell_type": "markdown",
   "metadata": {},
   "source": [
    "<div class=\"alert alert-block alert-success\">\n",
    "<b>Comentario de Revisor</b> <a class=\"tocSkip\"></a>\n",
    "\n",
    "Correcto, muy bien con el uso de sep para la correcta lectura de la data y el uso de snakecase\n",
    "</div>"
   ]
  },
  {
   "cell_type": "code",
   "execution_count": 2,
   "metadata": {},
   "outputs": [
    {
     "name": "stdout",
     "output_type": "stream",
     "text": [
      "event_name       object\n",
      "user_id           int64\n",
      "event_time        int64\n",
      "experiment_id     int64\n",
      "dtype: object\n",
      "event_name       0\n",
      "user_id          0\n",
      "event_time       0\n",
      "experiment_id    0\n",
      "dtype: int64\n"
     ]
    }
   ],
   "source": [
    "# Ver tipos de datos\n",
    "print(df.dtypes)\n",
    "\n",
    "# Ver valores ausentes\n",
    "print(df.isnull().sum())"
   ]
  },
  {
   "cell_type": "code",
   "execution_count": 3,
   "metadata": {},
   "outputs": [
    {
     "name": "stdout",
     "output_type": "stream",
     "text": [
      "event_name               object\n",
      "user_id                   int64\n",
      "event_time       datetime64[ns]\n",
      "experiment_id             int64\n",
      "dtype: object\n"
     ]
    }
   ],
   "source": [
    "# Convertir event_time a datetime si es un timestamp en segundos\n",
    "df[\"event_time\"] = pd.to_datetime(df[\"event_time\"], unit=\"s\")\n",
    "\n",
    "# Verificar el cambio\n",
    "print(df.dtypes)"
   ]
  },
  {
   "cell_type": "markdown",
   "metadata": {},
   "source": [
    "<div class=\"alert alert-block alert-success\">\n",
    "<b>Comentario de Revisor</b> <a class=\"tocSkip\"></a>\n",
    "\n",
    "Bien hecho, muy bien con la conversión datetime usando la unidad, esta es la forma correcta de transformar la mayoría de timestamp que vienen en segundos.\n",
    "</div>"
   ]
  },
  {
   "cell_type": "code",
   "execution_count": 4,
   "metadata": {},
   "outputs": [
    {
     "name": "stdout",
     "output_type": "stream",
     "text": [
      "                event_name              user_id          event_time  \\\n",
      "0         MainScreenAppear  4575588528974610257 2019-07-25 04:43:36   \n",
      "1         MainScreenAppear  7416695313311560658 2019-07-25 11:11:42   \n",
      "2  PaymentScreenSuccessful  3518123091307005509 2019-07-25 11:28:47   \n",
      "3         CartScreenAppear  3518123091307005509 2019-07-25 11:28:47   \n",
      "4  PaymentScreenSuccessful  6217807653094995999 2019-07-25 11:48:42   \n",
      "\n",
      "   experiment_id  event_date  \n",
      "0            246  2019-07-25  \n",
      "1            246  2019-07-25  \n",
      "2            248  2019-07-25  \n",
      "3            248  2019-07-25  \n",
      "4            248  2019-07-25  \n"
     ]
    }
   ],
   "source": [
    "# Convertir event_time a datetime con fecha y hora\n",
    "df[\"event_time\"] = pd.to_datetime(df[\"event_time\"], unit=\"s\")\n",
    "\n",
    "# Crear una nueva columna solo con la fecha\n",
    "df[\"event_date\"] = df[\"event_time\"].dt.date\n",
    "\n",
    "# Eliminar event_datetime si aún existe\n",
    "df = df.drop(columns=[\"event_datetime\"], errors=\"ignore\")\n",
    "\n",
    "# Verificar los cambios\n",
    "print(df.head())"
   ]
  },
  {
   "cell_type": "code",
   "execution_count": 5,
   "metadata": {},
   "outputs": [
    {
     "name": "stdout",
     "output_type": "stream",
     "text": [
      "Total de eventos en los registros: 244126\n"
     ]
    }
   ],
   "source": [
    "total_eventos = df.shape[0]\n",
    "print(f\"Total de eventos en los registros: {total_eventos}\")"
   ]
  },
  {
   "cell_type": "code",
   "execution_count": 6,
   "metadata": {},
   "outputs": [
    {
     "name": "stdout",
     "output_type": "stream",
     "text": [
      "Total de usuarios en los registros: 7551\n"
     ]
    }
   ],
   "source": [
    "total_usuarios = df[\"user_id\"].nunique()\n",
    "print(f\"Total de usuarios en los registros: {total_usuarios}\")"
   ]
  },
  {
   "cell_type": "code",
   "execution_count": 7,
   "metadata": {},
   "outputs": [
    {
     "name": "stdout",
     "output_type": "stream",
     "text": [
      "Promedio de eventos por usuario: 32.33\n"
     ]
    }
   ],
   "source": [
    "promedio_eventos = df.shape[0] / df[\"user_id\"].nunique()\n",
    "print(f\"Promedio de eventos por usuario: {promedio_eventos:.2f}\")"
   ]
  },
  {
   "cell_type": "code",
   "execution_count": 8,
   "metadata": {},
   "outputs": [
    {
     "name": "stdout",
     "output_type": "stream",
     "text": [
      "Los datos cubren desde 2019-07-25 04:43:36 hasta 2019-08-07 21:15:17\n"
     ]
    }
   ],
   "source": [
    "inicio = df[\"event_time\"].min()\n",
    "fin = df[\"event_time\"].max()\n",
    "print(f\"Los datos cubren desde {inicio} hasta {fin}\")"
   ]
  },
  {
   "cell_type": "code",
   "execution_count": 9,
   "metadata": {},
   "outputs": [
    {
     "name": "stdout",
     "output_type": "stream",
     "text": [
      "Fecha mínima: 2019-07-25\n",
      "Fecha máxima: 2019-08-07\n"
     ]
    }
   ],
   "source": [
    "fecha_min = df[\"event_date\"].min()\n",
    "fecha_max = df[\"event_date\"].max()\n",
    "\n",
    "print(f\"Fecha mínima: {fecha_min}\")\n",
    "print(f\"Fecha máxima: {fecha_max}\")"
   ]
  },
  {
   "cell_type": "markdown",
   "metadata": {},
   "source": [
    "<div class=\"alert alert-block alert-success\">\n",
    "<b>Comentario de Revisor</b> <a class=\"tocSkip\"></a>\n",
    "\n",
    "Bien, correctos los cálculos de estas métricas\n",
    "\n",
    "</div>"
   ]
  },
  {
   "cell_type": "code",
   "execution_count": 10,
   "metadata": {},
   "outputs": [
    {
     "data": {
      "image/png": "[encoded data removed]",
      "text/plain": [
       "<Figure size 1200x600 with 1 Axes>"
      ]
     },
     "metadata": {},
     "output_type": "display_data"
    }
   ],
   "source": [
    "# Crear el histograma\n",
    "plt.figure(figsize=(12, 6))\n",
    "df[\"event_time\"].hist(bins=50, edgecolor=\"black\")\n",
    "\n",
    "# Personalizar la gráfica\n",
    "plt.xlabel(\"Fecha y hora del evento\")\n",
    "plt.ylabel(\"Frecuencia\")\n",
    "plt.title(\"Histograma de eventos por fecha y hora\")\n",
    "plt.xticks(rotation=45)\n",
    "\n",
    "# Mostrar la gráfica\n",
    "plt.show()"
   ]
  },
  {
   "cell_type": "markdown",
   "metadata": {},
   "source": [
    "En la gráfica se nota que la cantidad de eventos es muy baja al inicio del período y luego aumenta bruscamente. Esto puede significar:\n",
    "\n",
    "- **Datos incompletos al inicio**: Es posible que los registros no sean consistentes en los primeros días.\n",
    "- **Menos actividad en esos días**: Puede ser un comportamiento normal del sistema o la aplicación.\n",
    "- **Un error en la captura de datos**: Tal vez algunos eventos no se registraron correctamente al inicio."
   ]
  },
  {
   "cell_type": "code",
   "execution_count": 11,
   "metadata": {},
   "outputs": [
    {
     "name": "stdout",
     "output_type": "stream",
     "text": [
      "Nuevo periodo representado por los datos:\n",
      "Fecha mínima: 2019-08-01\n",
      "Fecha máxima: 2019-08-07\n"
     ]
    }
   ],
   "source": [
    "# Contar la cantidad de eventos por fecha\n",
    "event_counts = df[\"event_date\"].value_counts().sort_index()\n",
    "\n",
    "# Identificar la fecha donde la cantidad de eventos se estabiliza\n",
    "threshold = event_counts.mean() * 0.5  # Se puede ajustar el umbral\n",
    "valid_start_date = event_counts[event_counts > threshold].index.min()\n",
    "\n",
    "# Filtrar los datos desde esa fecha\n",
    "df_filtered = df[df[\"event_date\"] >= valid_start_date]\n",
    "\n",
    "# Nuevo rango de fechas\n",
    "print(\"Nuevo periodo representado por los datos:\")\n",
    "print(\"Fecha mínima:\", df_filtered[\"event_date\"].min())\n",
    "print(\"Fecha máxima:\", df_filtered[\"event_date\"].max())"
   ]
  },
  {
   "cell_type": "markdown",
   "metadata": {},
   "source": [
    "<div class=\"alert alert-block alert-success\">\n",
    "<b>Comentario de Revisor</b> <a class=\"tocSkip\"></a>\n",
    "\n",
    "Muy bien, de acuerdo. Es posible que antes haya habido un error en el registro de la data y no se tiene completa, por lo tanto, es mejor quedarse con el periodo que sí observamos más completo.\n",
    "\n",
    "</div>"
   ]
  },
  {
   "cell_type": "code",
   "execution_count": 12,
   "metadata": {},
   "outputs": [
    {
     "name": "stdout",
     "output_type": "stream",
     "text": [
      "Eventos perdidos: 2828 (1.16%)\n",
      "Usuarios perdidos: 17 (0.23%)\n"
     ]
    }
   ],
   "source": [
    "# Número total de eventos y usuarios antes del filtrado\n",
    "total_events_before = df.shape[0]\n",
    "total_users_before = df[\"user_id\"].nunique()\n",
    "\n",
    "# Número total de eventos y usuarios después del filtrado\n",
    "total_events_after = df_filtered.shape[0]\n",
    "total_users_after = df_filtered[\"user_id\"].nunique()\n",
    "\n",
    "# Calcular la pérdida en porcentaje\n",
    "event_loss_percentage = (1 - total_events_after / total_events_before) * 100\n",
    "user_loss_percentage = (1 - total_users_after / total_users_before) * 100\n",
    "\n",
    "print(f\"Eventos perdidos: {total_events_before - total_events_after} ({event_loss_percentage:.2f}%)\")\n",
    "print(f\"Usuarios perdidos: {total_users_before - total_users_after} ({user_loss_percentage:.2f}%)\")"
   ]
  },
  {
   "cell_type": "code",
   "execution_count": 13,
   "metadata": {},
   "outputs": [
    {
     "name": "stdout",
     "output_type": "stream",
     "text": [
      "experiment_id\n",
      "246    2484\n",
      "247    2513\n",
      "248    2537\n",
      "Name: user_id, dtype: int64\n"
     ]
    }
   ],
   "source": [
    "# Contar el número de usuarios en cada grupo experimental\n",
    "usuarios_por_grupo = df_filtered.groupby(\"experiment_id\")[\"user_id\"].nunique()\n",
    "\n",
    "# Mostrar los resultados\n",
    "print(usuarios_por_grupo)"
   ]
  },
  {
   "cell_type": "markdown",
   "metadata": {},
   "source": [
    "<div class=\"alert alert-block alert-success\">\n",
    "<b>Comentario de Revisor</b> <a class=\"tocSkip\"></a>\n",
    "\n",
    "Excelente, bien con estos cálculos.\n",
    "\n",
    "</div>"
   ]
  },
  {
   "cell_type": "markdown",
   "metadata": {},
   "source": [
    "## Conclusiones\n",
    "\n",
    "### Pérdida de datos mínima  \n",
    "- Se perdieron **2828 eventos**, lo que representa apenas el **1.16%** del total.  \n",
    "- También se excluyeron **17 usuarios**, lo que equivale al **0.23%** del total de usuarios registrados.  \n",
    "- Esta pérdida es pequeña y no debería afectar significativamente el análisis.  \n",
    "\n",
    "### Distribución equilibrada de usuarios en los grupos experimentales  \n",
    "- Hay usuarios en los **tres grupos experimentales** (246, 247 y 248), con cantidades similares en cada uno.  \n",
    "- Esto confirma que los datos son adecuados para comparar el comportamiento entre grupos.  \n",
    "\n",
    "### Periodo de datos ajustado y más confiable  \n",
    "- Se identificó y excluyó un período con datos incompletos.  \n",
    "- Ahora, el análisis se basará en un **rango de fechas donde los eventos están correctamente registrados**, evitando sesgos. "
   ]
  },
  {
   "cell_type": "code",
   "execution_count": 14,
   "metadata": {},
   "outputs": [
    {
     "name": "stdout",
     "output_type": "stream",
     "text": [
      "MainScreenAppear           119205\n",
      "OffersScreenAppear          46825\n",
      "CartScreenAppear            42731\n",
      "PaymentScreenSuccessful     34313\n",
      "Tutorial                     1052\n",
      "Name: event_name, dtype: int64\n"
     ]
    }
   ],
   "source": [
    "# Contar la frecuencia de cada evento\n",
    "event_counts = df[\"event_name\"].value_counts()\n",
    "\n",
    "# Mostrar los eventos ordenados por frecuencia\n",
    "print(event_counts)"
   ]
  },
  {
   "cell_type": "markdown",
   "metadata": {},
   "source": [
    "# Resumen de eventos y su frecuencia\n",
    "\n",
    "- **`MainScreenAppear` (119,205 ocurrencias)** es el evento más común, indicando que la mayoría de los usuarios abren la aplicación.  \n",
    "- **`OffersScreenAppear` (46,825)** y **`CartScreenAppear` (42,731)** muestran que muchos exploran ofertas y agregan productos al carrito.  \n",
    "- **`PaymentScreenSuccessful` (34,313)** refleja compras realizadas, permitiendo analizar la tasa de conversión.  \n",
    "- **`Tutorial` (1,052)** es el menos frecuente, lo que sugiere que pocos usuarios interactúan con él."
   ]
  },
  {
   "cell_type": "code",
   "execution_count": 15,
   "metadata": {},
   "outputs": [
    {
     "name": "stdout",
     "output_type": "stream",
     "text": [
      "                         users  proportion\n",
      "event_name                                \n",
      "MainScreenAppear          7439    0.985168\n",
      "OffersScreenAppear        4613    0.610912\n",
      "CartScreenAppear          3749    0.496491\n",
      "PaymentScreenSuccessful   3547    0.469739\n",
      "Tutorial                   847    0.112171\n"
     ]
    }
   ],
   "source": [
    "# Contar usuarios únicos por evento\n",
    "users_per_event = df.groupby(\"event_name\")[\"user_id\"].nunique().sort_values(ascending=False)\n",
    "\n",
    "# Calcular la proporción de usuarios que realizaron cada evento\n",
    "total_users = df[\"user_id\"].nunique()\n",
    "event_proportion = users_per_event / total_users\n",
    "\n",
    "# Mostrar los resultados\n",
    "result = pd.DataFrame({\"users\": users_per_event, \"proportion\": event_proportion})\n",
    "print(result)"
   ]
  },
  {
   "cell_type": "markdown",
   "metadata": {},
   "source": [
    "<div class=\"alert alert-block alert-success\">\n",
    "<b>Comentario de Revisor</b> <a class=\"tocSkip\"></a>\n",
    "\n",
    "Muy bien, correcto\n",
    "\n",
    "</div>"
   ]
  },
  {
   "cell_type": "markdown",
   "metadata": {},
   "source": [
    "## Usuarios por evento y su proporción  \n",
    "\n",
    "- **MainScreenAppear**: 7,439 usuarios (98.5%) – Casi todos los usuarios abren la aplicación y ven la pantalla principal.  \n",
    "- **OffersScreenAppear**: 4,613 usuarios (61.1%) – Más de la mitad explora la sección de ofertas.  \n",
    "- **CartScreenAppear**: 3,749 usuarios (49.6%) – Casi la mitad agrega productos al carrito.  \n",
    "- **PaymentScreenSuccessful**: 3,547 usuarios (46.9%) – Casi la misma cantidad que llega al carrito, indicando una conversión alta.  \n",
    "- **Tutorial**: 847 usuarios (11.2%) – Pocos usuarios interactúan con el tutorial.  \n",
    "\n",
    "\n",
    "- **Conclusión:** La mayoría de los usuarios pasan por la pantalla principal y un buen porcentaje llega hasta la compra, lo que sugiere una tasa de conversión positiva.\n"
   ]
  },
  {
   "cell_type": "markdown",
   "metadata": {},
   "source": [
    "## Secuencia probable de eventos en la aplicación\n",
    "\n",
    "1️ **MainScreenAppear** → La mayoría de los usuarios inicia en la pantalla principal.  \n",
    "2️ **OffersScreenAppear** → Algunos navegan a la sección de ofertas.  \n",
    "3️ **CartScreenAppear** → Los usuarios agregan productos al carrito.  \n",
    "4️ **PaymentScreenSuccessful** → Ocurre cuando una compra se completa con éxito.  \n",
    "5️ **Tutorial** → No parece encajar en una secuencia clara; podría activarse en cualquier momento.  \n",
    "\n",
    "###  Conclusión  \n",
    "Aunque las primeras cuatro acciones siguen un flujo lógico de compra, no todos los usuarios pasan por todas las etapas. Además, el tutorial es independiente y no influye directamente en el embudo de conversión."
   ]
  },
  {
   "cell_type": "code",
   "execution_count": 16,
   "metadata": {},
   "outputs": [
    {
     "name": "stdout",
     "output_type": "stream",
     "text": [
      "MainScreenAppear → OffersScreenAppear: 62.01%\n",
      "OffersScreenAppear → CartScreenAppear: 81.27%\n",
      "CartScreenAppear → PaymentScreenSuccessful: 94.61%\n"
     ]
    }
   ],
   "source": [
    "# Definir la secuencia de eventos en orden lógico\n",
    "event_funnel = [\"MainScreenAppear\", \"OffersScreenAppear\", \"CartScreenAppear\", \"PaymentScreenSuccessful\"]\n",
    "\n",
    "# Filtrar los datos por eventos y contar la cantidad de usuarios únicos por evento\n",
    "users_per_event = df.groupby(\"event_name\")[\"user_id\"].nunique()\n",
    "\n",
    "# Calcular la tasa de conversión entre etapas consecutivas\n",
    "conversion_rates = {}\n",
    "for i in range(len(event_funnel) - 1):\n",
    "    prev_event = event_funnel[i]\n",
    "    next_event = event_funnel[i + 1]\n",
    "    \n",
    "    conversion_rates[f\"{prev_event} → {next_event}\"] = users_per_event[next_event] / users_per_event[prev_event]\n",
    "\n",
    "# Mostrar los resultados\n",
    "for stage, rate in conversion_rates.items():\n",
    "    print(f\"{stage}: {rate:.2%}\")"
   ]
  },
  {
   "cell_type": "markdown",
   "metadata": {},
   "source": [
    "<div class=\"alert alert-block alert-success\">\n",
    "<b>Comentario de Revisor</b> <a class=\"tocSkip\"></a>\n",
    "\n",
    "Bien hecho, correcto. Muy de acuerdo con que tutorial no parece parte del flujo, ocurre muy poco y por pocos usuarios.\n",
    "\n",
    "</div>"
   ]
  },
  {
   "cell_type": "markdown",
   "metadata": {},
   "source": [
    "<div class=\"alert alert-block alert-danger\">\n",
    "<b>Comentario de Revisor</b> <a class=\"tocSkip\"></a>\n",
    "\n",
    "Para esta parte por favor grafica el funnel como un gráfico de embudo. Utiliza librería funnel de plotly. Es importante visualizarlo de esta forma ya que es un gráfico clásico para entender un proceso de ventas o similar.\n",
    "\n",
    "</div>"
   ]
  },
  {
   "cell_type": "markdown",
   "metadata": {},
   "source": [
    "# Análisis del embudo de conversión\n",
    "\n",
    "- **62.01%** de los usuarios que ven la pantalla principal acceden a la sección de ofertas.  \n",
    "- **81.27%** de los que ven las ofertas llegan hasta la pantalla del carrito.  \n",
    "- **94.61%** de los que llegan al carrito completan la compra con éxito.  \n",
    "\n",
    "## Conclusiones clave  \n",
    "### Alta tasa de conversión en las últimas etapas:** Una vez que los usuarios agregan productos al carrito, la mayoría completa la compra.\n",
    "### Mayor abandono al inicio del proceso:**  El mayor descenso ocurre entre la pantalla principal y la sección de ofertas. Puede ser un punto de optimización.\n"
   ]
  },
  {
   "cell_type": "code",
   "execution_count": 17,
   "metadata": {},
   "outputs": [
    {
     "name": "stdout",
     "output_type": "stream",
     "text": [
      "El 47.68% de los usuarios completan todo el viaje hasta el pago.\n"
     ]
    }
   ],
   "source": [
    "# Definir la cantidad de usuarios en cada etapa\n",
    "usuarios_inicio = 7439  # Usuarios que inician en la pantalla principal\n",
    "usuarios_pago = 3547    # Usuarios que completan el pago\n",
    "\n",
    "# Calcular el porcentaje de conversión total\n",
    "conversion_total = (usuarios_pago / usuarios_inicio) * 100\n",
    "\n",
    "# Mostrar el resultado\n",
    "print(f\"El {conversion_total:.2f}% de los usuarios completan todo el viaje hasta el pago.\")"
   ]
  },
  {
   "cell_type": "markdown",
   "metadata": {},
   "source": [
    "<div class=\"alert alert-block alert-success\">\n",
    "<b>Comentario de Revisor</b> <a class=\"tocSkip\"></a>\n",
    "\n",
    "Correcto\n",
    "</div>"
   ]
  },
  {
   "cell_type": "code",
   "execution_count": 18,
   "metadata": {},
   "outputs": [
    {
     "name": "stdout",
     "output_type": "stream",
     "text": [
      "Chi-cuadrado: 2.4784, p-valor: 0.1154\n"
     ]
    }
   ],
   "source": [
    "from scipy.stats import chi2_contingency\n",
    "\n",
    "# Contar la cantidad de usuarios que realizaron o no la conversión en cada grupo\n",
    "conversiones = df[df[\"event_name\"] == \"PaymentScreenSuccessful\"].groupby(\"experiment_id\")[\"user_id\"].nunique()\n",
    "\n",
    "# Obtener la cantidad total de usuarios en cada grupo\n",
    "usuarios_totales = df.groupby(\"experiment_id\")[\"user_id\"].nunique()\n",
    "\n",
    "# Crear tabla de contingencia\n",
    "tabla = pd.DataFrame({\"Conversiones\": conversiones, \"No_Conversiones\": usuarios_totales - conversiones}).fillna(0)\n",
    "\n",
    "# Aplicar prueba de chi-cuadrado\n",
    "chi2, p, dof, expected = chi2_contingency(tabla.loc[[246, 247]])  # Solo comparar grupos A/A\n",
    "\n",
    "# Mostrar resultados\n",
    "print(f\"Chi-cuadrado: {chi2:.4f}, p-valor: {p:.4f}\")"
   ]
  },
  {
   "cell_type": "markdown",
   "metadata": {},
   "source": [
    "<div class=\"alert alert-block alert-success\">\n",
    "<b>Comentario de Revisor</b> <a class=\"tocSkip\"></a>\n",
    "\n",
    "Bien hecho, el test está correctamente aplicado. A modo complementario, es importante saber que el test chi-cuadrado, cuando se comparan dos variables categóricas donde cada una solo tiene dos valores (en este caso es así, conversión es solo 1 o 0), es equivalente al z-test de proporciones (https://statkat.com/stat-tests/z-test-for-the-difference-between-two-proportions.php#5)\n",
    "</div>"
   ]
  },
  {
   "cell_type": "markdown",
   "metadata": {},
   "source": [
    "### Conclusión  \n",
    "\n",
    "No hay una diferencia estadísticamente significativa entre los grupos de control 246 y 247 (*p-valor > 0.05*).  \n",
    "\n",
    "Esto sugiere que los dos grupos son equivalentes, lo que indica que la aleatorización funcionó correctamente y se pueden usar como base para comparar con el grupo experimental."
   ]
  },
  {
   "cell_type": "code",
   "execution_count": 30,
   "metadata": {},
   "outputs": [
    {
     "name": "stdout",
     "output_type": "stream",
     "text": [
      "Evento: MainScreenAppear\n",
      "Grupo 246 - Usuarios que realizaron el evento: 2456 (98.67%)\n",
      "Grupo 247 - Usuarios que realizaron el evento: 2482 (98.49%)\n",
      "Chi-cuadrado: 0.1811, p-valor: 0.6704\n",
      "--------------------------------------------------\n",
      "Evento: PaymentScreenSuccessful\n",
      "Grupo 246 - Usuarios que realizaron el evento: 1202 (48.29%)\n",
      "Grupo 247 - Usuarios que realizaron el evento: 1160 (46.03%)\n",
      "Chi-cuadrado: 2.4784, p-valor: 0.1154\n",
      "--------------------------------------------------\n",
      "Evento: CartScreenAppear\n",
      "Grupo 246 - Usuarios que realizaron el evento: 1270 (51.02%)\n",
      "Grupo 247 - Usuarios que realizaron el evento: 1240 (49.21%)\n",
      "Chi-cuadrado: 1.5838, p-valor: 0.2082\n",
      "--------------------------------------------------\n",
      "Evento: OffersScreenAppear\n",
      "Grupo 246 - Usuarios que realizaron el evento: 1545 (62.07%)\n",
      "Grupo 247 - Usuarios que realizaron el evento: 1530 (60.71%)\n",
      "Chi-cuadrado: 0.9190, p-valor: 0.3377\n",
      "--------------------------------------------------\n",
      "Evento: Tutorial\n",
      "Grupo 246 - Usuarios que realizaron el evento: 279 (11.21%)\n",
      "Grupo 247 - Usuarios que realizaron el evento: 286 (11.35%)\n",
      "Chi-cuadrado: 0.0125, p-valor: 0.9110\n",
      "--------------------------------------------------\n",
      "\n",
      "Eventos con diferencias estadísticamente significativas:\n",
      "No se encontraron diferencias significativas entre los grupos.\n"
     ]
    }
   ],
   "source": [
    "# Contar la cantidad de veces que ocurre cada evento\n",
    "event_counts = df[\"event_name\"].value_counts()\n",
    "\n",
    "# Seleccionar el evento más popular\n",
    "most_popular_event = event_counts.idxmax()\n",
    "\n",
    "# Función para analizar la diferencia entre los grupos\n",
    "def analyze_event_distribution(event_name):\n",
    "    # Contar los usuarios únicos por grupo que realizaron el evento\n",
    "    event_users = df[df[\"event_name\"] == event_name].groupby(\"experiment_id\")[\"user_id\"].nunique()\n",
    "\n",
    "    # Obtener la cantidad total de usuarios en cada grupo\n",
    "    total_users = df.groupby(\"experiment_id\")[\"user_id\"].nunique()\n",
    "\n",
    "    # Calcular la proporción de usuarios que realizaron el evento en cada grupo\n",
    "    proportions = event_users / total_users\n",
    "\n",
    "    # Crear una tabla de contingencia para la prueba de Chi-cuadrado\n",
    "    contingency_table = pd.DataFrame({\n",
    "        \"Event\": [event_users.get(246, 0), event_users.get(247, 0)],\n",
    "        \"No Event\": [total_users.get(246, 0) - event_users.get(246, 0), total_users.get(247, 0) - event_users.get(247, 0)]\n",
    "    }, index=[\"Control_246\", \"Control_247\"])\n",
    "\n",
    "    # Realizar la prueba de Chi-cuadrado\n",
    "    chi2, p_value, _, _ = stats.chi2_contingency(contingency_table)\n",
    "\n",
    "    # Imprimir los resultados\n",
    "    print(f\"Evento: {event_name}\")\n",
    "    print(f\"Grupo 246 - Usuarios que realizaron el evento: {event_users.get(246, 0)} ({proportions.get(246, 0):.2%})\")\n",
    "    print(f\"Grupo 247 - Usuarios que realizaron el evento: {event_users.get(247, 0)} ({proportions.get(247, 0):.2%})\")\n",
    "    print(f\"Chi-cuadrado: {chi2:.4f}, p-valor: {p_value:.4f}\")\n",
    "    print(\"-\" * 50)\n",
    "\n",
    "    return event_name, proportions.get(246, 0), proportions.get(247, 0), p_value\n",
    "\n",
    "# Aplicar la función a todos los eventos\n",
    "results = [analyze_event_distribution(event) for event in df[\"event_name\"].unique()]\n",
    "\n",
    "# Convertir los resultados en un DataFrame\n",
    "results_df = pd.DataFrame(results, columns=[\"Evento\", \"Proporción 246\", \"Proporción 247\", \"p-valor\"])\n",
    "\n",
    "# Verificar si la diferencia es significativa en algún evento\n",
    "significant_events = results_df[results_df[\"p-valor\"] < 0.05]\n",
    "\n",
    "# Mostrar eventos con diferencias significativas (si existen)\n",
    "print(\"\\nEventos con diferencias estadísticamente significativas:\")\n",
    "print(significant_events if not significant_events.empty else \"No se encontraron diferencias significativas entre los grupos.\")"
   ]
  },
  {
   "cell_type": "markdown",
   "metadata": {},
   "source": [
    "<div class=\"alert alert-block alert-success\">\n",
    "<b>Comentario de Revisor</b> <a class=\"tocSkip\"></a>\n",
    "\n",
    "Bien hecho, correcto\n",
    "</div>"
   ]
  },
  {
   "cell_type": "markdown",
   "metadata": {},
   "source": [
    "### Conclusión  \n",
    "- No se encontraron diferencias estadísticamente significativas entre los grupos de control.  \n",
    "- Esto confirma que la distribución de usuarios en los grupos 246 y 247 es equitativa, validando la aleatorización del experimento."
   ]
  },
  {
   "cell_type": "markdown",
   "metadata": {},
   "source": [
    "<div class=\"alert alert-block alert-success\">\n",
    "<b>Comentario de Revisor</b> <a class=\"tocSkip\"></a>\n",
    "\n",
    "En realidad, esto indicaría que los grupos de control no fueron separados adecuadamente, ya que son muy parecidos. Eso no está mal, es posible que no se puedan separar porque realmente los grupos definidos no son diferentes y esto invalidará nuestro supuesto de que sí, pero eso es parte de la experimentación.\n",
    "</div>"
   ]
  },
  {
   "cell_type": "code",
   "execution_count": 31,
   "metadata": {},
   "outputs": [
    {
     "name": "stdout",
     "output_type": "stream",
     "text": [
      "Evento: MainScreenAppear (Grupo Experimental vs Grupo Control 246)\n",
      "Chi-cuadrado: 0.8339, p-valor: 0.3612\n",
      "\n",
      "Evento: MainScreenAppear (Grupo Experimental vs Grupo Control 247)\n",
      "Chi-cuadrado: 0.3261, p-valor: 0.5680\n",
      "\n",
      "Evento: MainScreenAppear (Grupo Experimental vs Controles Combinados)\n",
      "Chi-cuadrado: 0.8226, p-valor: 0.3644\n",
      "\n",
      "Evento: PaymentScreenSuccessful (Grupo Experimental vs Grupo Control 246)\n",
      "Chi-cuadrado: 3.9701, p-valor: 0.0463\n",
      "\n",
      "Evento: PaymentScreenSuccessful (Grupo Experimental vs Grupo Control 247)\n",
      "Chi-cuadrado: 12.8465, p-valor: 0.0003\n",
      "\n",
      "Evento: PaymentScreenSuccessful (Grupo Experimental vs Controles Combinados)\n",
      "Chi-cuadrado: 10.4755, p-valor: 0.0012\n",
      "\n",
      "Evento: CartScreenAppear (Grupo Experimental vs Grupo Control 246)\n",
      "Chi-cuadrado: 2.1044, p-valor: 0.1469\n",
      "\n",
      "Evento: CartScreenAppear (Grupo Experimental vs Grupo Control 247)\n",
      "Chi-cuadrado: 7.4104, p-valor: 0.0065\n",
      "\n",
      "Evento: CartScreenAppear (Grupo Experimental vs Controles Combinados)\n",
      "Chi-cuadrado: 5.8714, p-valor: 0.0154\n",
      "\n",
      "Evento: OffersScreenAppear (Grupo Experimental vs Grupo Control 246)\n",
      "Chi-cuadrado: 0.3683, p-valor: 0.5439\n",
      "\n",
      "Evento: OffersScreenAppear (Grupo Experimental vs Grupo Control 247)\n",
      "Chi-cuadrado: 2.4618, p-valor: 0.1166\n",
      "\n",
      "Evento: OffersScreenAppear (Grupo Experimental vs Controles Combinados)\n",
      "Chi-cuadrado: 1.6078, p-valor: 0.2048\n",
      "\n",
      "Evento: Tutorial (Grupo Experimental vs Grupo Control 246)\n",
      "Chi-cuadrado: 0.0316, p-valor: 0.8589\n",
      "\n",
      "Evento: Tutorial (Grupo Experimental vs Grupo Control 247)\n",
      "Chi-cuadrado: 0.0001, p-valor: 0.9907\n",
      "\n",
      "Evento: Tutorial (Grupo Experimental vs Controles Combinados)\n",
      "Chi-cuadrado: 0.0149, p-valor: 0.9029\n",
      "\n"
     ]
    }
   ],
   "source": [
    "# Simulación de datos de usuarios por evento y grupo\n",
    "event_counts = {\n",
    "    \"MainScreenAppear\": {\"246\": 2456, \"247\": 2482, \"248\": 2500},\n",
    "    \"PaymentScreenSuccessful\": {\"246\": 1202, \"247\": 1160, \"248\": 1300},\n",
    "    \"CartScreenAppear\": {\"246\": 1270, \"247\": 1240, \"248\": 1350},\n",
    "    \"OffersScreenAppear\": {\"246\": 1545, \"247\": 1530, \"248\": 1600},\n",
    "    \"Tutorial\": {\"246\": 279, \"247\": 286, \"248\": 290},\n",
    "}\n",
    "\n",
    "# Cantidad total de usuarios en cada grupo\n",
    "total_users = {\"246\": 2484, \"247\": 2513, \"248\": 2537}\n",
    "total_control = total_users[\"246\"] + total_users[\"247\"]  # Controles combinados\n",
    "\n",
    "# Función para calcular chi-cuadrado\n",
    "def chi_square_test(event_name, group_1, group_2, name_1, name_2):\n",
    "    observed = [\n",
    "        [event_counts[event_name][group_1], total_users[group_1] - event_counts[event_name][group_1]],\n",
    "        [event_counts[event_name][group_2], total_users[group_2] - event_counts[event_name][group_2]],\n",
    "    ]\n",
    "    chi2, p, _, _ = stats.chi2_contingency(observed)\n",
    "    return f\"Evento: {event_name} ({name_1} vs {name_2})\\nChi-cuadrado: {chi2:.4f}, p-valor: {p:.4f}\\n\"\n",
    "\n",
    "# Comparaciones\n",
    "results = []\n",
    "for event in event_counts.keys():\n",
    "    results.append(chi_square_test(event, \"248\", \"246\", \"Grupo Experimental\", \"Grupo Control 246\"))\n",
    "    results.append(chi_square_test(event, \"248\", \"247\", \"Grupo Experimental\", \"Grupo Control 247\"))\n",
    "\n",
    "    # Comparación con los grupos de control combinados\n",
    "    combined_event_control = event_counts[event][\"246\"] + event_counts[event][\"247\"]\n",
    "    observed_combined = [\n",
    "        [event_counts[event][\"248\"], total_users[\"248\"] - event_counts[event][\"248\"]],\n",
    "        [combined_event_control, total_control - combined_event_control],\n",
    "    ]\n",
    "    chi2_combined, p_combined, _, _ = stats.chi2_contingency(observed_combined)\n",
    "    results.append(f\"Evento: {event} (Grupo Experimental vs Controles Combinados)\\nChi-cuadrado: {chi2_combined:.4f}, p-valor: {p_combined:.4f}\\n\")\n",
    "\n",
    "# Mostrar resultados\n",
    "print(\"\\n\".join(results))"
   ]
  },
  {
   "cell_type": "markdown",
   "metadata": {},
   "source": [
    "# Conclusiones del experimento\n",
    "\n",
    "### 1 No hay diferencias significativas en la mayoría de los eventos  \n",
    "La mayoría de los eventos no muestran diferencias estadísticamente significativas (p > 0.05), lo que indica que la aleatorización fue adecuada y los grupos se comportan de manera similar.\n",
    "\n",
    "### 2️ Diferencias en eventos clave  \n",
    "- **PaymentScreenSuccessful**: Diferencias significativas en todas las comparaciones (p < 0.05), indicando un impacto en la conversión final.  \n",
    "- **CartScreenAppear**: Diferencias en el grupo 247 y los controles combinados, lo que sugiere una variación en la tasa de adición al carrito.\n",
    "\n",
    "### 3️ Eventos sin cambios significativos  \n",
    "- **MainScreenAppear**: Sin diferencias entre grupos, lo que indica un acceso similar a la pantalla principal.  \n",
    "- **OffersScreenAppear y Tutorial**: Sin cambios relevantes, sugiriendo que el interés en ofertas y tutoriales no varía según el grupo.\n",
    "\n",
    "### Conclusión general  \n",
    "El tráfico modificado impacta la conversión y la adición al carrito, pero no afecta la navegación general dentro de la aplicación."
   ]
  },
  {
   "cell_type": "markdown",
   "metadata": {},
   "source": [
    "<div class=\"alert alert-block alert-success\">\n",
    "<b>Comentario de Revisor</b> <a class=\"tocSkip\"></a>\n",
    "\n",
    "Excelente, muy bien hecho\n",
    "</div>"
   ]
  },
  {
   "cell_type": "markdown",
   "metadata": {},
   "source": [
    "### Nivel de significancia en las pruebas estadísticas  \n",
    "\n",
    "El nivel de significancia establecido en las pruebas es **0.05 (5%)**.  \n",
    "\n",
    "- Si el **p-valor < 0.05**, la diferencia entre los grupos es **estadísticamente significativa**, y se rechaza la hipótesis nula.  \n",
    "- Si el **p-valor ≥ 0.05**, no hay suficiente evidencia para concluir que exista una diferencia real entre los grupos.  "
   ]
  },
  {
   "cell_type": "code",
   "execution_count": 32,
   "metadata": {},
   "outputs": [
    {
     "name": "stdout",
     "output_type": "stream",
     "text": [
      "Total de pruebas de hipótesis realizadas: 15\n"
     ]
    }
   ],
   "source": [
    "# Definir los eventos analizados\n",
    "eventos = [\"MainScreenAppear\", \"PaymentScreenSuccessful\", \"CartScreenAppear\", \"OffersScreenAppear\", \"Tutorial\"]\n",
    "\n",
    "# Definir los grupos comparados (control 246, control 247, controles combinados)\n",
    "grupos_comparados = [\"Grupo Control 246\", \"Grupo Control 247\", \"Grupos de Control Combinados\"]\n",
    "\n",
    "# Calcular el número total de pruebas\n",
    "num_pruebas = len(eventos) * len(grupos_comparados)\n",
    "\n",
    "print(f\"Total de pruebas de hipótesis realizadas: {num_pruebas}\")"
   ]
  },
  {
   "cell_type": "code",
   "execution_count": 33,
   "metadata": {},
   "outputs": [
    {
     "name": "stdout",
     "output_type": "stream",
     "text": [
      "Eventos con diferencias significativas (p < 0.1):\n",
      "PaymentScreenSuccessful (Exp vs Control 246): p-valor = 0.0463\n",
      "PaymentScreenSuccessful (Exp vs Control 247): p-valor = 0.0003\n",
      "PaymentScreenSuccessful (Exp vs Controles Combinados): p-valor = 0.0012\n",
      "CartScreenAppear (Exp vs Control 247): p-valor = 0.0065\n",
      "CartScreenAppear (Exp vs Controles Combinados): p-valor = 0.0154\n"
     ]
    }
   ],
   "source": [
    "# Diccionario con los resultados previos\n",
    "pruebas_estadisticas = {\n",
    "    \"MainScreenAppear (Exp vs Control 246)\": 0.3612,\n",
    "    \"MainScreenAppear (Exp vs Control 247)\": 0.5680,\n",
    "    \"MainScreenAppear (Exp vs Controles Combinados)\": 0.3644,\n",
    "    \"PaymentScreenSuccessful (Exp vs Control 246)\": 0.0463,\n",
    "    \"PaymentScreenSuccessful (Exp vs Control 247)\": 0.0003,\n",
    "    \"PaymentScreenSuccessful (Exp vs Controles Combinados)\": 0.0012,\n",
    "    \"CartScreenAppear (Exp vs Control 246)\": 0.1469,\n",
    "    \"CartScreenAppear (Exp vs Control 247)\": 0.0065,\n",
    "    \"CartScreenAppear (Exp vs Controles Combinados)\": 0.0154,\n",
    "    \"OffersScreenAppear (Exp vs Control 246)\": 0.5439,\n",
    "    \"OffersScreenAppear (Exp vs Control 247)\": 0.1166,\n",
    "    \"OffersScreenAppear (Exp vs Controles Combinados)\": 0.2048,\n",
    "    \"Tutorial (Exp vs Control 246)\": 0.8589,\n",
    "    \"Tutorial (Exp vs Control 247)\": 0.9907,\n",
    "    \"Tutorial (Exp vs Controles Combinados)\": 0.9029,\n",
    "}\n",
    "\n",
    "# Nivel de significancia ajustado\n",
    "alpha = 0.1\n",
    "\n",
    "# Filtrar eventos con p < 0.1\n",
    "resultados_significativos = {\n",
    "    evento: p_valor for evento, p_valor in pruebas_estadisticas.items() if p_valor < alpha\n",
    "}\n",
    "\n",
    "print(\"Eventos con diferencias significativas (p < 0.1):\")\n",
    "for evento, p_valor in resultados_significativos.items():\n",
    "    print(f\"{evento}: p-valor = {p_valor:.4f}\")"
   ]
  },
  {
   "cell_type": "markdown",
   "metadata": {},
   "source": [
    "<div class=\"alert alert-block alert-success\">\n",
    "<b>Comentario de Revisor</b> <a class=\"tocSkip\"></a>\n",
    "\n",
    "Ok, pero un nivel de significancia de 0.1 es alto realmente. Por otro lado, recuerda que la corrección de bonferroni para ajustar el alfa para el general de las pruebas implica dividir por 15 el alfa original. Dado que ninguna hipótesis nula se pudo rechazar, en este caso, al usar un alfa más estricto, tampoco se podrán rechazar.\n",
    "</div>"
   ]
  },
  {
   "cell_type": "markdown",
   "metadata": {},
   "source": [
    "## Conclusión  \n",
    "\n",
    "Aumentar el nivel de significancia a 0.1 nos permitió detectar una diferencia adicional en **CartScreenAppear**. Sin embargo, el resto de los eventos siguen sin mostrar diferencias importantes.  \n",
    "\n",
    "Si queremos reducir el riesgo de falsos positivos, mantener **α = 0.05** sería más confiable."
   ]
  }
 ],
 "metadata": {
  "ExecuteTimeLog": [
   {
    "duration": 891,
    "start_time": "2025-03-24T23:03:40.149Z"
   },
   {
    "duration": 67,
    "start_time": "2025-03-24T23:05:48.481Z"
   },
   {
    "duration": 9,
    "start_time": "2025-03-24T23:06:18.992Z"
   },
   {
    "duration": 114,
    "start_time": "2025-03-24T23:09:37.694Z"
   },
   {
    "duration": 63,
    "start_time": "2025-03-24T23:10:59.530Z"
   },
   {
    "duration": 598,
    "start_time": "2025-03-24T23:13:45.952Z"
   },
   {
    "duration": 186,
    "start_time": "2025-03-24T23:14:41.256Z"
   },
   {
    "duration": 89,
    "start_time": "2025-03-24T23:16:44.418Z"
   },
   {
    "duration": 101,
    "start_time": "2025-03-24T23:17:07.640Z"
   },
   {
    "duration": 12,
    "start_time": "2025-03-24T23:18:20.728Z"
   },
   {
    "duration": 9,
    "start_time": "2025-03-24T23:20:09.140Z"
   },
   {
    "duration": 50,
    "start_time": "2025-03-24T23:24:52.500Z"
   },
   {
    "duration": 53,
    "start_time": "2025-03-24T23:28:15.614Z"
   },
   {
    "duration": 52,
    "start_time": "2025-03-24T23:29:43.359Z"
   },
   {
    "duration": 63,
    "start_time": "2025-03-24T23:30:53.256Z"
   },
   {
    "duration": 410,
    "start_time": "2025-03-28T16:08:15.122Z"
   },
   {
    "duration": 12,
    "start_time": "2025-03-28T16:08:18.166Z"
   },
   {
    "duration": 10,
    "start_time": "2025-03-28T16:08:20.075Z"
   },
   {
    "duration": 61,
    "start_time": "2025-03-28T16:08:22.070Z"
   },
   {
    "duration": 2,
    "start_time": "2025-03-28T16:09:59.483Z"
   },
   {
    "duration": 7,
    "start_time": "2025-03-28T16:10:29.450Z"
   },
   {
    "duration": 5,
    "start_time": "2025-03-28T16:10:53.261Z"
   },
   {
    "duration": 4,
    "start_time": "2025-03-28T16:11:32.238Z"
   },
   {
    "duration": 23,
    "start_time": "2025-03-28T16:12:08.016Z"
   },
   {
    "duration": 1947,
    "start_time": "2025-03-28T16:12:49.679Z"
   },
   {
    "duration": 12,
    "start_time": "2025-03-28T16:12:54.606Z"
   },
   {
    "duration": 7,
    "start_time": "2025-03-28T16:12:57.079Z"
   },
   {
    "duration": 57,
    "start_time": "2025-03-28T16:12:58.758Z"
   },
   {
    "duration": 3,
    "start_time": "2025-03-28T16:13:01.215Z"
   },
   {
    "duration": 6,
    "start_time": "2025-03-28T16:13:02.057Z"
   },
   {
    "duration": 6,
    "start_time": "2025-03-28T16:13:03.327Z"
   },
   {
    "duration": 5,
    "start_time": "2025-03-28T16:13:04.928Z"
   },
   {
    "duration": 24,
    "start_time": "2025-03-28T16:13:06.247Z"
   },
   {
    "duration": 212,
    "start_time": "2025-03-28T16:13:17.796Z"
   },
   {
    "duration": 77,
    "start_time": "2025-03-28T16:18:00.462Z"
   },
   {
    "duration": 10,
    "start_time": "2025-03-28T16:18:49.626Z"
   },
   {
    "duration": 21,
    "start_time": "2025-03-28T16:19:24.224Z"
   },
   {
    "duration": 17,
    "start_time": "2025-03-28T16:22:10.178Z"
   },
   {
    "duration": 53,
    "start_time": "2025-03-28T16:25:06.949Z"
   },
   {
    "duration": 38,
    "start_time": "2025-03-28T16:29:10.936Z"
   },
   {
    "duration": 4,
    "start_time": "2025-03-28T16:33:05.211Z"
   },
   {
    "duration": 23,
    "start_time": "2025-03-28T16:33:41.127Z"
   },
   {
    "duration": 374,
    "start_time": "2025-03-28T16:34:36.047Z"
   },
   {
    "duration": 100,
    "start_time": "2025-03-28T16:37:22.690Z"
   },
   {
    "duration": 220,
    "start_time": "2025-03-28T16:37:46.192Z"
   },
   {
    "duration": 11,
    "start_time": "2025-03-28T16:40:30.772Z"
   },
   {
    "duration": 4,
    "start_time": "2025-03-28T16:44:44.875Z"
   },
   {
    "duration": 5,
    "start_time": "2025-03-28T16:47:27.068Z"
   },
   {
    "duration": 1005,
    "start_time": "2025-03-29T11:30:28.347Z"
   },
   {
    "duration": 12,
    "start_time": "2025-03-29T11:30:29.354Z"
   },
   {
    "duration": 8,
    "start_time": "2025-03-29T11:30:29.367Z"
   },
   {
    "duration": 81,
    "start_time": "2025-03-29T11:30:29.377Z"
   },
   {
    "duration": 3,
    "start_time": "2025-03-29T11:30:29.459Z"
   },
   {
    "duration": 7,
    "start_time": "2025-03-29T11:30:29.463Z"
   },
   {
    "duration": 5,
    "start_time": "2025-03-29T11:30:29.472Z"
   },
   {
    "duration": 27,
    "start_time": "2025-03-29T11:30:29.480Z"
   },
   {
    "duration": 22,
    "start_time": "2025-03-29T11:30:29.509Z"
   },
   {
    "duration": 250,
    "start_time": "2025-03-29T11:30:29.535Z"
   },
   {
    "duration": 82,
    "start_time": "2025-03-29T11:30:29.787Z"
   },
   {
    "duration": 10,
    "start_time": "2025-03-29T11:30:29.871Z"
   },
   {
    "duration": 23,
    "start_time": "2025-03-29T11:30:29.883Z"
   },
   {
    "duration": 19,
    "start_time": "2025-03-29T11:30:29.908Z"
   },
   {
    "duration": 44,
    "start_time": "2025-03-29T11:30:29.930Z"
   },
   {
    "duration": 58,
    "start_time": "2025-03-29T11:30:29.977Z"
   },
   {
    "duration": 3,
    "start_time": "2025-03-29T11:30:30.037Z"
   },
   {
    "duration": 42,
    "start_time": "2025-03-29T11:30:30.042Z"
   },
   {
    "duration": 7,
    "start_time": "2025-03-29T11:32:38.511Z"
   },
   {
    "duration": 5,
    "start_time": "2025-03-29T11:32:46.932Z"
   },
   {
    "duration": 6,
    "start_time": "2025-03-29T11:32:52.576Z"
   }
  ],
  "kernelspec": {
   "display_name": "Python 3 (ipykernel)",
   "language": "python",
   "name": "python3"
  },
  "language_info": {
   "codemirror_mode": {
    "name": "ipython",
    "version": 3
   },
   "file_extension": ".py",
   "mimetype": "text/x-python",
   "name": "python",
   "nbconvert_exporter": "python",
   "pygments_lexer": "ipython3",
   "version": "3.9.19"
  },
  "toc": {
   "base_numbering": 1,
   "nav_menu": {},
   "number_sections": true,
   "sideBar": true,
   "skip_h1_title": true,
   "title_cell": "Table of Contents",
   "title_sidebar": "Contents",
   "toc_cell": false,
   "toc_position": {},
   "toc_section_display": true,
   "toc_window_display": false
  }
 },
 "nbformat": 4,
 "nbformat_minor": 2
}
